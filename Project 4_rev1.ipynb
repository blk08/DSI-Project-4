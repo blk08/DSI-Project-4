{
 "cells": [
  {
   "cell_type": "code",
   "execution_count": 1,
   "metadata": {},
   "outputs": [],
   "source": [
    "from selenium import webdriver\n",
    "from selenium.webdriver.common.keys import Keys\n",
    "from bs4 import BeautifulSoup\n",
    "import urllib\n",
    "import os\n",
    "import requests\n",
    "from time import sleep"
   ]
  },
  {
   "cell_type": "code",
   "execution_count": 6,
   "metadata": {},
   "outputs": [],
   "source": [
    "href=[]\n",
    "for i in range(0,1000):\n",
    "    url='https://www.mycareersfuture.sg/search?search=data&sortBy=new_posting_date&page={}'.format(i)\n",
    "    driver1 = webdriver.Chrome(executable_path=\"./chromedriver/chromedriver\")\n",
    "    driver1.get(url)\n",
    "    # amount of time spent to grab information\n",
    "    sleep(7)\n",
    "    # Grab the page source.\n",
    "    html = driver1.page_source\n",
    "    soup = BeautifulSoup(html, 'lxml')\n",
    "    href_soup=soup.find_all('a',{'class':'bg-white mb3 w-100 dib v-top pa3 no-underline flex-ns flex-wrap JobCard__card___22xP3'})\n",
    "    \n",
    "    for i in range(0,len(href_soup)):\n",
    "        href.append('https://www.mycareersfuture.sg'+href_soup[i]['href'])\n",
    "        \n",
    "    driver1.close()"
   ]
  },
  {
   "cell_type": "code",
   "execution_count": 4,
   "metadata": {},
   "outputs": [
    {
     "data": {
      "text/plain": [
       "'https://www.mycareersfuture.sg/job/data-science-lead-large-customer-sales-singapore-google-asia-pacific-4a23f0baa5c6bbdf7c07755a43ad57ff'"
      ]
     },
     "execution_count": 4,
     "metadata": {},
     "output_type": "execute_result"
    }
   ],
   "source": [
    "href[0]"
   ]
  },
  {
   "cell_type": "code",
   "execution_count": 7,
   "metadata": {},
   "outputs": [],
   "source": [
    "import pandas as pd\n",
    "columns=['company_name','job_address','job_title','job_category','employment_type','salary','salary_type','description','requirements']\n",
    "jobs=pd.DataFrame(columns=columns)"
   ]
  },
  {
   "cell_type": "code",
   "execution_count": 6,
   "metadata": {},
   "outputs": [],
   "source": [
    "# company_name=[]\n",
    "# job_title=[]\n",
    "# job_salary=[]\n",
    "# job_category=[]\n",
    "# employment_type=[]\n",
    "# salary_type=[]\n",
    "# job_address=[]\n",
    "\n",
    "for i in range(0,len(href)):\n",
    "    url=href[i]\n",
    "    driver2 = webdriver.Chrome(executable_path=\"./chromedriver/chromedriver\")\n",
    "    driver2.get(url)\n",
    "    \n",
    "    # amount of time spent to grab information\n",
    "    sleep(7)\n",
    "    \n",
    "    # Grab the job tab page source\n",
    "    html = driver2.page_source\n",
    "    soup = BeautifulSoup(html,'lxml')\n",
    "    \n",
    "    # grabbing company name\n",
    "    \n",
    "    try:\n",
    "        company=soup.find('p',{'name':'company'})\n",
    "        jobs.loc[i,'company_name']=company.get_text()\n",
    "#         company_name.append(company.get_text())\n",
    "    \n",
    "    except AttributeError:\n",
    "        jobs.loc[i,'company_name']='NaN'\n",
    "#         company_name.append('NaN')\n",
    "    \n",
    "    # grabbing job title\n",
    "    \n",
    "    try:\n",
    "        title=soup.find('h1',{'id':'job_title'})\n",
    "        jobs.loc[i,'job_title']=title.get_text()\n",
    "#         job_title.append(title.get_text())\n",
    "    \n",
    "    except AttributeError:\n",
    "        jobs.loc[i,'job_title']='NaN'\n",
    "    \n",
    "    # grabbing employment type\n",
    "    \n",
    "    try:\n",
    "        permanency=soup.find('p',{'id':'employment_type'})\n",
    "        jobs.loc[i,'employment_type']=permanency.get_text()\n",
    "#         employment_type.append(permanency.get_text())\n",
    "    \n",
    "    except AttributeError:\n",
    "        jobs.loc[i,'employment_type']='NaN'\n",
    "    \n",
    "    \n",
    "    # grabbing job type\n",
    "    \n",
    "    try:\n",
    "        type_job=soup.find('p',{'id':'job-categories'})\n",
    "        jobs.loc[i,'job_category']=type_job.get_text()\n",
    "#         job_category.append(type_job.get_text())\n",
    "    \n",
    "    except AttributeError:\n",
    "        jobs.loc[i,'job_category']='NaN'\n",
    "\n",
    "    # grabbing salary\n",
    "    \n",
    "    try:\n",
    "        salary=soup.find('div',{'class':'lh-solid'})\n",
    "        jobs.loc[i,'salary']=salary.get_text()\n",
    "#         job_salary.append(salary.get_text())\n",
    "    \n",
    "    except AttributeError:\n",
    "        jobs.loc[i,'salary']='NaN'\n",
    "    \n",
    "    # grabbing company address\n",
    "    \n",
    "    try:\n",
    "        address=soup.find('a',{'class':'link dark-pink underline-hover'})\n",
    "        jobs.loc[i,'job_address']=address.get_text()\n",
    "#         job_address.append(address.get_text())\n",
    "        \n",
    "    except AttributeError:\n",
    "        jobs.loc[i,'job_address']='NaN'\n",
    "#         job_address.append('NaN')\n",
    "        \n",
    "    \n",
    "    # grabbing salary type (monthly or annually)\n",
    "    \n",
    "    try:\n",
    "        payment_type=soup.find('span',{'class':\"salary_type dib f5 fw4 black-60 pr1 i pb\"})\n",
    "        jobs.loc[i,'salary_type']=payment_type.get_text()\n",
    "#         salary_type.append(payment_type.get_text())\n",
    "        \n",
    "    except AttributeError:\n",
    "        jobs.loc[i,'salary_type']='NaN'\n",
    "#         salary_type.append('NaN')\n",
    "    \n",
    "    # grabbing job description\n",
    "    \n",
    "    try: \n",
    "        description=soup.find('div',{'id':'job_description'})\n",
    "        jobs.loc[i,'description']=description.get_text()\n",
    "    \n",
    "    except AttributeError:\n",
    "        jobs.loc[i,'description']='NaN'\n",
    "    \n",
    "    # grabbing job skills requirements\n",
    "    \n",
    "    try:\n",
    "        requirement=soup.find('div',{'id':'requirements'})\n",
    "        jobs.loc[i,'requirements']=requirement.get_text()\n",
    "        \n",
    "#         requirement=soup.find('div',{'id':'requirements-contents'})\n",
    "#         requirement=requirement.find_all('li')\n",
    "#         temp_data=[]\n",
    "#         for j in range(0,len(requirement)):\n",
    "#             temp_data.append(requirement[j].get_text())\n",
    "#         jobs.loc[i,'requirements']=temp_data\n",
    "#         required_skills.append(temp_data)\n",
    "    \n",
    "    except AttributeError:\n",
    "        jobs.loc[i,'requirements']='NaN'\n",
    "#         required_skills.append('NaN')\n",
    "\n",
    "    \n",
    "    driver2.close()\n",
    "    jobs.to_csv('example.csv')\n",
    "    "
   ]
  },
  {
   "cell_type": "code",
   "execution_count": null,
   "metadata": {},
   "outputs": [],
   "source": []
  },
  {
   "cell_type": "code",
   "execution_count": null,
   "metadata": {},
   "outputs": [],
   "source": []
  },
  {
   "cell_type": "code",
   "execution_count": null,
   "metadata": {},
   "outputs": [],
   "source": [
    "required_skills"
   ]
  },
  {
   "cell_type": "code",
   "execution_count": null,
   "metadata": {},
   "outputs": [],
   "source": [
    "requirement=soup.find('div',{'id':'requirements-content'})\n"
   ]
  },
  {
   "cell_type": "code",
   "execution_count": null,
   "metadata": {},
   "outputs": [],
   "source": [
    "description=soup.find('div',{'id':'description-content'})"
   ]
  },
  {
   "cell_type": "code",
   "execution_count": null,
   "metadata": {},
   "outputs": [],
   "source": []
  },
  {
   "cell_type": "code",
   "execution_count": null,
   "metadata": {},
   "outputs": [],
   "source": []
  },
  {
   "cell_type": "code",
   "execution_count": null,
   "metadata": {},
   "outputs": [],
   "source": []
  },
  {
   "cell_type": "code",
   "execution_count": null,
   "metadata": {},
   "outputs": [],
   "source": [
    "<div class=\"f5 fw4 black-70 lh-copy break-word\" id=\"requirements-content\"><p><strong>What You'll Need</strong></p>  <p><strong>We are looking for Passion and Proficiency</strong></p>  <ul> \t<li>Data-oriented personality and software engineering practices</li> \t<li>Excellent understanding of machine learning models, their pros and cons</li> \t<li>Experience with common data science toolkits such as Python/R</li> \t<li>Experience with data visualization tools such as D3.js, matplotlib and etc</li> \t<li>Proficiency in using query languages such as SQL, Hive</li> \t<li>Good understanding of statistics, such as distributions, A/B testing, model overfitting/underfitting</li> \t<li>Experience with one of deep learning libraries such as Tensorflow, Keras, Pytorch, CNTK, MXNet etc</li> \t<li>Master of Computer Science/Engineering, Applied Mathematics or other engineering related area</li> </ul></div>"
   ]
  },
  {
   "cell_type": "code",
   "execution_count": null,
   "metadata": {},
   "outputs": [],
   "source": [
    "jobs"
   ]
  },
  {
   "cell_type": "code",
   "execution_count": null,
   "metadata": {},
   "outputs": [],
   "source": [
    "jobs.requirements[0]"
   ]
  },
  {
   "cell_type": "code",
   "execution_count": null,
   "metadata": {},
   "outputs": [],
   "source": [
    "len(required_skills)"
   ]
  },
  {
   "cell_type": "code",
   "execution_count": null,
   "metadata": {},
   "outputs": [],
   "source": []
  },
  {
   "cell_type": "code",
   "execution_count": null,
   "metadata": {},
   "outputs": [],
   "source": [
    "# storing the webscraped data to dataframe\n",
    "jobs.to_csv('example.csv')\n"
   ]
  },
  {
   "cell_type": "code",
   "execution_count": null,
   "metadata": {},
   "outputs": [],
   "source": [
    "requirement=soup.find('div',{'id':'requirements'})\n",
    "requirement=requirement.find_all('li')"
   ]
  },
  {
   "cell_type": "code",
   "execution_count": null,
   "metadata": {},
   "outputs": [],
   "source": []
  },
  {
   "cell_type": "code",
   "execution_count": 2,
   "metadata": {},
   "outputs": [],
   "source": [
    "url='https://www.mycareersfuture.sg/job/data-scientist-singapore-power-5731c18be188d7d1f80a840a834ad207'\n",
    "driver2 = webdriver.Chrome(executable_path=\"./chromedriver/chromedriver\")\n",
    "driver2.get(url)\n",
    "    \n",
    "    # amount of time spent to grab information\n",
    "sleep(5)\n",
    "    \n",
    "    # Grab the job tab page source\n",
    "html = driver2.page_source\n",
    "soup = BeautifulSoup(html,'lxml')"
   ]
  },
  {
   "cell_type": "code",
   "execution_count": null,
   "metadata": {},
   "outputs": [],
   "source": [
    "requirement=soup.find('div',{'id':'requirements'})"
   ]
  },
  {
   "cell_type": "code",
   "execution_count": null,
   "metadata": {},
   "outputs": [],
   "source": [
    "xy=requirement.get_text()"
   ]
  },
  {
   "cell_type": "code",
   "execution_count": null,
   "metadata": {},
   "outputs": [],
   "source": [
    "xy"
   ]
  },
  {
   "cell_type": "code",
   "execution_count": 6,
   "metadata": {},
   "outputs": [],
   "source": [
    "description=soup.find('div',{'id':'description-content'})"
   ]
  },
  {
   "cell_type": "code",
   "execution_count": 7,
   "metadata": {},
   "outputs": [
    {
     "data": {
      "text/plain": [
       "\"Why Work for Us We Power the Nation.  Make the most of your talents and develop products that can create impact on a national scale. We are an in-house software team, assembled to move with speed and deliver with quality. \\xa0 We Build Reliable Solutions. For Customers, Company and Country.  You will be part of the Digital Technology Team and together, you will innovate, create, and deploy digital products that will empower more than 3,800 employees within SP Group and improve the quality of life for the 1.5 million commercial, industrial and residential customers that SP Group serves. We build solutions that enable sustainable high quality lifestyles and help consumers save energy and cost, as well as supporting national goals for a sustainable livable city. Now, imagine the impact you can create. \\xa0 SP Digital Technology aims to use cutting edge technologies to help SP Group to revolutionize future utility/energy industry by providing better services and more efficient energy solutions to our customers. Data charter consists of data engineering, business intelligence, data science/machine learning teams. We oversee and drive all data and AI initiatives for SP group. It includes the following  Build next generation data infrastructure to collect/process/analyze different data from consumers, assets, energy Discover the business problems/opportunities and design data-driven solutions to improve operation/business/customer experience Uncover the actionable insights for multiple stakeholders to drive business growth  \\xa0 The mission of data team is to drive SP to become data-driven company and create data-driven products. As a data team member, you will be responsible for designing, developing and deploying data-driven solutions to create business value. We are looking for a Data Scientist who will help us discover patterns hidden in large amounts of data and make decisions from different sources. Your primary focus will be in applying data wrangling and machine learning techniques to build high quality anomaly detection, prediction and recommendation systems integrated with our products. You will work closely with customers and data engineers to understand the business requirements, in-house infrastructure and help build solutions for different business users. \\xa0 What You'll Do  Understand business logics from domain experts and come up with reasonable targets for data projects Data fetching from different sources such as database, big data lake running on hadoop/hive Enhancing data by building autonomous pipelines from different sources Data wrangling by preprocessing, cleansing, and feature engineering Applying state-of-art machine learning techniques such as RNN, CNN for predictions and anomaly detections Build agile data products in a team of data engineers, scientists and business users Doing ad-hoc analysis and presenting results in clear manner Guide junior team members on their projects Help find opportunities from different business partners \""
      ]
     },
     "execution_count": 7,
     "metadata": {},
     "output_type": "execute_result"
    }
   ],
   "source": []
  },
  {
   "cell_type": "code",
   "execution_count": null,
   "metadata": {},
   "outputs": [],
   "source": [
    "description=soup.find('p',{'id':'job-categories'})\n"
   ]
  },
  {
   "cell_type": "code",
   "execution_count": null,
   "metadata": {},
   "outputs": [],
   "source": [
    "description.find_all('p')"
   ]
  },
  {
   "cell_type": "code",
   "execution_count": null,
   "metadata": {},
   "outputs": [],
   "source": []
  },
  {
   "cell_type": "code",
   "execution_count": null,
   "metadata": {},
   "outputs": [],
   "source": []
  },
  {
   "cell_type": "code",
   "execution_count": 3,
   "metadata": {},
   "outputs": [],
   "source": [
    "driver = webdriver.Chrome(executable_path=\"./chromedriver/chromedriver\")            \n",
    "driver.get('https://www.mycareersfuture.sg/')"
   ]
  },
  {
   "cell_type": "code",
   "execution_count": 4,
   "metadata": {},
   "outputs": [],
   "source": [
    "elem1 = driver.find_element_by_id(\"search-text\")\n",
    "elem1.clear()\n",
    "elem1.send_keys(\"data analyst\")\n",
    "elem1.send_keys(Keys.RETURN)"
   ]
  },
  {
   "cell_type": "code",
   "execution_count": 5,
   "metadata": {},
   "outputs": [
    {
     "ename": "WebDriverException",
     "evalue": "Message: unknown error: Element <a class=\"bg-white mb3 w-100 dib v-top pa3 no-underline flex-ns flex-wrap JobCard__card___22xP3\" href=\"/job/data-analyst-kimberley-consulting-4008fb50dd7344b95acab9762086290f\">...</a> is not clickable at point (778, 538). Other element would receive the click: <p class=\"mv0 pt3 i black-60 tr f7\">...</p>\n  (Session info: chrome=72.0.3626.81)\n  (Driver info: chromedriver=2.37.544337 (8c0344a12e552148c185f7d5117db1f28d6c9e85),platform=Mac OS X 10.14.2 x86_64)\n",
     "output_type": "error",
     "traceback": [
      "\u001b[0;31m---------------------------------------------------------------------------\u001b[0m",
      "\u001b[0;31mWebDriverException\u001b[0m                        Traceback (most recent call last)",
      "\u001b[0;32m<ipython-input-5-266814b5b434>\u001b[0m in \u001b[0;36m<module>\u001b[0;34m\u001b[0m\n\u001b[1;32m      2\u001b[0m \u001b[0melem2\u001b[0m \u001b[0;34m=\u001b[0m \u001b[0mdriver\u001b[0m\u001b[0;34m.\u001b[0m\u001b[0mfind_element_by_xpath\u001b[0m\u001b[0;34m(\u001b[0m\u001b[0;34m'//*[@id=\"job-card-0\"]/div/a'\u001b[0m\u001b[0;34m)\u001b[0m\u001b[0;34m\u001b[0m\u001b[0;34m\u001b[0m\u001b[0m\n\u001b[1;32m      3\u001b[0m \u001b[0melem2\u001b[0m\u001b[0;34m.\u001b[0m\u001b[0mget_attribute\u001b[0m\u001b[0;34m(\u001b[0m\u001b[0;34m'href'\u001b[0m\u001b[0;34m)\u001b[0m\u001b[0;34m\u001b[0m\u001b[0;34m\u001b[0m\u001b[0m\n\u001b[0;32m----> 4\u001b[0;31m \u001b[0melem2\u001b[0m\u001b[0;34m.\u001b[0m\u001b[0mclick\u001b[0m\u001b[0;34m(\u001b[0m\u001b[0;34m)\u001b[0m\u001b[0;34m\u001b[0m\u001b[0;34m\u001b[0m\u001b[0m\n\u001b[0m",
      "\u001b[0;32m/anaconda3/lib/python3.6/site-packages/selenium/webdriver/remote/webelement.py\u001b[0m in \u001b[0;36mclick\u001b[0;34m(self)\u001b[0m\n\u001b[1;32m     78\u001b[0m     \u001b[0;32mdef\u001b[0m \u001b[0mclick\u001b[0m\u001b[0;34m(\u001b[0m\u001b[0mself\u001b[0m\u001b[0;34m)\u001b[0m\u001b[0;34m:\u001b[0m\u001b[0;34m\u001b[0m\u001b[0;34m\u001b[0m\u001b[0m\n\u001b[1;32m     79\u001b[0m         \u001b[0;34m\"\"\"Clicks the element.\"\"\"\u001b[0m\u001b[0;34m\u001b[0m\u001b[0;34m\u001b[0m\u001b[0m\n\u001b[0;32m---> 80\u001b[0;31m         \u001b[0mself\u001b[0m\u001b[0;34m.\u001b[0m\u001b[0m_execute\u001b[0m\u001b[0;34m(\u001b[0m\u001b[0mCommand\u001b[0m\u001b[0;34m.\u001b[0m\u001b[0mCLICK_ELEMENT\u001b[0m\u001b[0;34m)\u001b[0m\u001b[0;34m\u001b[0m\u001b[0;34m\u001b[0m\u001b[0m\n\u001b[0m\u001b[1;32m     81\u001b[0m \u001b[0;34m\u001b[0m\u001b[0m\n\u001b[1;32m     82\u001b[0m     \u001b[0;32mdef\u001b[0m \u001b[0msubmit\u001b[0m\u001b[0;34m(\u001b[0m\u001b[0mself\u001b[0m\u001b[0;34m)\u001b[0m\u001b[0;34m:\u001b[0m\u001b[0;34m\u001b[0m\u001b[0;34m\u001b[0m\u001b[0m\n",
      "\u001b[0;32m/anaconda3/lib/python3.6/site-packages/selenium/webdriver/remote/webelement.py\u001b[0m in \u001b[0;36m_execute\u001b[0;34m(self, command, params)\u001b[0m\n\u001b[1;32m    631\u001b[0m             \u001b[0mparams\u001b[0m \u001b[0;34m=\u001b[0m \u001b[0;34m{\u001b[0m\u001b[0;34m}\u001b[0m\u001b[0;34m\u001b[0m\u001b[0;34m\u001b[0m\u001b[0m\n\u001b[1;32m    632\u001b[0m         \u001b[0mparams\u001b[0m\u001b[0;34m[\u001b[0m\u001b[0;34m'id'\u001b[0m\u001b[0;34m]\u001b[0m \u001b[0;34m=\u001b[0m \u001b[0mself\u001b[0m\u001b[0;34m.\u001b[0m\u001b[0m_id\u001b[0m\u001b[0;34m\u001b[0m\u001b[0;34m\u001b[0m\u001b[0m\n\u001b[0;32m--> 633\u001b[0;31m         \u001b[0;32mreturn\u001b[0m \u001b[0mself\u001b[0m\u001b[0;34m.\u001b[0m\u001b[0m_parent\u001b[0m\u001b[0;34m.\u001b[0m\u001b[0mexecute\u001b[0m\u001b[0;34m(\u001b[0m\u001b[0mcommand\u001b[0m\u001b[0;34m,\u001b[0m \u001b[0mparams\u001b[0m\u001b[0;34m)\u001b[0m\u001b[0;34m\u001b[0m\u001b[0;34m\u001b[0m\u001b[0m\n\u001b[0m\u001b[1;32m    634\u001b[0m \u001b[0;34m\u001b[0m\u001b[0m\n\u001b[1;32m    635\u001b[0m     \u001b[0;32mdef\u001b[0m \u001b[0mfind_element\u001b[0m\u001b[0;34m(\u001b[0m\u001b[0mself\u001b[0m\u001b[0;34m,\u001b[0m \u001b[0mby\u001b[0m\u001b[0;34m=\u001b[0m\u001b[0mBy\u001b[0m\u001b[0;34m.\u001b[0m\u001b[0mID\u001b[0m\u001b[0;34m,\u001b[0m \u001b[0mvalue\u001b[0m\u001b[0;34m=\u001b[0m\u001b[0;32mNone\u001b[0m\u001b[0;34m)\u001b[0m\u001b[0;34m:\u001b[0m\u001b[0;34m\u001b[0m\u001b[0;34m\u001b[0m\u001b[0m\n",
      "\u001b[0;32m/anaconda3/lib/python3.6/site-packages/selenium/webdriver/remote/webdriver.py\u001b[0m in \u001b[0;36mexecute\u001b[0;34m(self, driver_command, params)\u001b[0m\n\u001b[1;32m    319\u001b[0m         \u001b[0mresponse\u001b[0m \u001b[0;34m=\u001b[0m \u001b[0mself\u001b[0m\u001b[0;34m.\u001b[0m\u001b[0mcommand_executor\u001b[0m\u001b[0;34m.\u001b[0m\u001b[0mexecute\u001b[0m\u001b[0;34m(\u001b[0m\u001b[0mdriver_command\u001b[0m\u001b[0;34m,\u001b[0m \u001b[0mparams\u001b[0m\u001b[0;34m)\u001b[0m\u001b[0;34m\u001b[0m\u001b[0;34m\u001b[0m\u001b[0m\n\u001b[1;32m    320\u001b[0m         \u001b[0;32mif\u001b[0m \u001b[0mresponse\u001b[0m\u001b[0;34m:\u001b[0m\u001b[0;34m\u001b[0m\u001b[0;34m\u001b[0m\u001b[0m\n\u001b[0;32m--> 321\u001b[0;31m             \u001b[0mself\u001b[0m\u001b[0;34m.\u001b[0m\u001b[0merror_handler\u001b[0m\u001b[0;34m.\u001b[0m\u001b[0mcheck_response\u001b[0m\u001b[0;34m(\u001b[0m\u001b[0mresponse\u001b[0m\u001b[0;34m)\u001b[0m\u001b[0;34m\u001b[0m\u001b[0;34m\u001b[0m\u001b[0m\n\u001b[0m\u001b[1;32m    322\u001b[0m             response['value'] = self._unwrap_value(\n\u001b[1;32m    323\u001b[0m                 response.get('value', None))\n",
      "\u001b[0;32m/anaconda3/lib/python3.6/site-packages/selenium/webdriver/remote/errorhandler.py\u001b[0m in \u001b[0;36mcheck_response\u001b[0;34m(self, response)\u001b[0m\n\u001b[1;32m    240\u001b[0m                 \u001b[0malert_text\u001b[0m \u001b[0;34m=\u001b[0m \u001b[0mvalue\u001b[0m\u001b[0;34m[\u001b[0m\u001b[0;34m'alert'\u001b[0m\u001b[0;34m]\u001b[0m\u001b[0;34m.\u001b[0m\u001b[0mget\u001b[0m\u001b[0;34m(\u001b[0m\u001b[0;34m'text'\u001b[0m\u001b[0;34m)\u001b[0m\u001b[0;34m\u001b[0m\u001b[0;34m\u001b[0m\u001b[0m\n\u001b[1;32m    241\u001b[0m             \u001b[0;32mraise\u001b[0m \u001b[0mexception_class\u001b[0m\u001b[0;34m(\u001b[0m\u001b[0mmessage\u001b[0m\u001b[0;34m,\u001b[0m \u001b[0mscreen\u001b[0m\u001b[0;34m,\u001b[0m \u001b[0mstacktrace\u001b[0m\u001b[0;34m,\u001b[0m \u001b[0malert_text\u001b[0m\u001b[0;34m)\u001b[0m\u001b[0;34m\u001b[0m\u001b[0;34m\u001b[0m\u001b[0m\n\u001b[0;32m--> 242\u001b[0;31m         \u001b[0;32mraise\u001b[0m \u001b[0mexception_class\u001b[0m\u001b[0;34m(\u001b[0m\u001b[0mmessage\u001b[0m\u001b[0;34m,\u001b[0m \u001b[0mscreen\u001b[0m\u001b[0;34m,\u001b[0m \u001b[0mstacktrace\u001b[0m\u001b[0;34m)\u001b[0m\u001b[0;34m\u001b[0m\u001b[0;34m\u001b[0m\u001b[0m\n\u001b[0m\u001b[1;32m    243\u001b[0m \u001b[0;34m\u001b[0m\u001b[0m\n\u001b[1;32m    244\u001b[0m     \u001b[0;32mdef\u001b[0m \u001b[0m_value_or_default\u001b[0m\u001b[0;34m(\u001b[0m\u001b[0mself\u001b[0m\u001b[0;34m,\u001b[0m \u001b[0mobj\u001b[0m\u001b[0;34m,\u001b[0m \u001b[0mkey\u001b[0m\u001b[0;34m,\u001b[0m \u001b[0mdefault\u001b[0m\u001b[0;34m)\u001b[0m\u001b[0;34m:\u001b[0m\u001b[0;34m\u001b[0m\u001b[0;34m\u001b[0m\u001b[0m\n",
      "\u001b[0;31mWebDriverException\u001b[0m: Message: unknown error: Element <a class=\"bg-white mb3 w-100 dib v-top pa3 no-underline flex-ns flex-wrap JobCard__card___22xP3\" href=\"/job/data-analyst-kimberley-consulting-4008fb50dd7344b95acab9762086290f\">...</a> is not clickable at point (778, 538). Other element would receive the click: <p class=\"mv0 pt3 i black-60 tr f7\">...</p>\n  (Session info: chrome=72.0.3626.81)\n  (Driver info: chromedriver=2.37.544337 (8c0344a12e552148c185f7d5117db1f28d6c9e85),platform=Mac OS X 10.14.2 x86_64)\n"
     ]
    }
   ],
   "source": [
    "# accessing the job tabs to pull data\n",
    "elem2 = driver.find_element_by_xpath('//*[@id=\"job-card-0\"]/div/a')\n",
    "elem2.get_attribute('href')\n",
    "elem2.click()"
   ]
  },
  {
   "cell_type": "code",
   "execution_count": 6,
   "metadata": {},
   "outputs": [
    {
     "ename": "AttributeError",
     "evalue": "'WebElement' object has no attribute 'back'",
     "output_type": "error",
     "traceback": [
      "\u001b[0;31m---------------------------------------------------------------------------\u001b[0m",
      "\u001b[0;31mAttributeError\u001b[0m                            Traceback (most recent call last)",
      "\u001b[0;32m<ipython-input-6-a0fd7b5fa544>\u001b[0m in \u001b[0;36m<module>\u001b[0;34m\u001b[0m\n\u001b[0;32m----> 1\u001b[0;31m \u001b[0melem2\u001b[0m\u001b[0;34m.\u001b[0m\u001b[0mback\u001b[0m\u001b[0;34m(\u001b[0m\u001b[0;34m)\u001b[0m\u001b[0;34m\u001b[0m\u001b[0m\n\u001b[0m",
      "\u001b[0;31mAttributeError\u001b[0m: 'WebElement' object has no attribute 'back'"
     ]
    }
   ],
   "source": []
  },
  {
   "cell_type": "code",
   "execution_count": null,
   "metadata": {},
   "outputs": [],
   "source": []
  }
 ],
 "metadata": {
  "kernelspec": {
   "display_name": "Python 3",
   "language": "python",
   "name": "python3"
  },
  "language_info": {
   "codemirror_mode": {
    "name": "ipython",
    "version": 3
   },
   "file_extension": ".py",
   "mimetype": "text/x-python",
   "name": "python",
   "nbconvert_exporter": "python",
   "pygments_lexer": "ipython3",
   "version": "3.6.8"
  }
 },
 "nbformat": 4,
 "nbformat_minor": 2
}
